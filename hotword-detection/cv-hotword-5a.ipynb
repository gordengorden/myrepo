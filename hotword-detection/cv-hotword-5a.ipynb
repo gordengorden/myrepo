{
 "cells": [
  {
   "cell_type": "code",
   "execution_count": 1,
   "id": "376d9b00",
   "metadata": {},
   "outputs": [],
   "source": [
    "import pandas as pd"
   ]
  },
  {
   "cell_type": "code",
   "execution_count": 2,
   "id": "9fac32d6",
   "metadata": {},
   "outputs": [],
   "source": [
    "CSV_PATH = \"./hotword-detection/cv-valid-dev.csv\"\n",
    "df = pd.read_csv(CSV_PATH)"
   ]
  },
  {
   "cell_type": "code",
   "execution_count": 3,
   "id": "b62c7138",
   "metadata": {},
   "outputs": [
    {
     "name": "stderr",
     "output_type": "stream",
     "text": [
      "/Users/gordenlim/anaconda3/envs/htx/lib/python3.9/site-packages/tqdm/auto.py:21: TqdmWarning: IProgress not found. Please update jupyter and ipywidgets. See https://ipywidgets.readthedocs.io/en/stable/user_install.html\n",
      "  from .autonotebook import tqdm as notebook_tqdm\n"
     ]
    }
   ],
   "source": [
    "# read in model and processor\n",
    "from transformers import Wav2Vec2Processor, Wav2Vec2ForCTC\n",
    "model = Wav2Vec2ForCTC.from_pretrained(\"./asr_train/wav2vec2-large-960h-cv\")\n",
    "processor = Wav2Vec2Processor.from_pretrained(\"./asr_train/wav2vec2-large-960h-cv\")"
   ]
  },
  {
   "cell_type": "code",
   "execution_count": null,
   "id": "70ec77c5",
   "metadata": {},
   "outputs": [],
   "source": [
    "import os\n",
    "import torch\n",
    "import torchaudio\n",
    "AUDIO_DIR = \"./data/common_voice/cv-valid-dev\""
   ]
  },
  {
   "cell_type": "code",
   "execution_count": 5,
   "id": "38ebd3e2",
   "metadata": {},
   "outputs": [
    {
     "name": "stdout",
     "output_type": "stream",
     "text": [
      "Processing 4076 files...\n",
      "\n",
      "Done. Transcriptions saved to: ./hotword-detection/cv-valid-dev.csv\n"
     ]
    }
   ],
   "source": [
    "# Add a new column for the generated text\n",
    "generated = []\n",
    "\n",
    "print(f\"Processing {len(df)} files...\")\n",
    "\n",
    "# Loop through each row\n",
    "for idx, row in df.iterrows():\n",
    "    filename = row[\"filename\"]\n",
    "    audio_path = os.path.join(AUDIO_DIR, filename)\n",
    "\n",
    "    # load and convert to 16kHz mono\n",
    "    waveform, sample_rate = torchaudio.load(audio_path)\n",
    "\n",
    "    if sample_rate != 16000:\n",
    "        waveform = torchaudio.transforms.Resample(orig_freq=sample_rate, new_freq=16000)(waveform)\n",
    "        sample_rate = 16000\n",
    "\n",
    "    # get inputs\n",
    "    inputs = processor(waveform.squeeze().numpy(), sampling_rate=sample_rate, return_tensors=\"pt\", padding=True)\n",
    "\n",
    "    # perform inference\n",
    "    with torch.no_grad():\n",
    "        logits = model(**inputs).logits\n",
    "    predicted_ids = torch.argmax(logits, dim=-1)\n",
    "    transcription = processor.decode(predicted_ids[0])\n",
    "\n",
    "    generated.append(transcription)\n",
    "\n",
    "# Add to DataFrame and save\n",
    "df[\"generated_text\"] = generated\n",
    "df.to_csv(CSV_PATH, index=False)\n",
    "\n",
    "print(f\"\\nDone. Transcriptions saved to: {CSV_PATH}\")"
   ]
  },
  {
   "cell_type": "code",
   "execution_count": 6,
   "id": "4db36527",
   "metadata": {},
   "outputs": [],
   "source": [
    "hotwords = [\"be careful\", \"destroy\", \"stranger\"]"
   ]
  },
  {
   "cell_type": "code",
   "execution_count": 7,
   "id": "2fa504ce",
   "metadata": {},
   "outputs": [],
   "source": [
    "# if text contains any of the hotwords, set label to 1\n",
    "df[\"label\"] = df[\"generated_text\"].apply(lambda x: 1 if any(hotword in x.lower() for hotword in hotwords) else 0)"
   ]
  },
  {
   "cell_type": "code",
   "execution_count": 8,
   "id": "552d67cb",
   "metadata": {},
   "outputs": [],
   "source": [
    "df_detected = df[df[\"label\"] == 1][[\"filename\"]].reset_index(drop=True)"
   ]
  },
  {
   "cell_type": "code",
   "execution_count": 9,
   "id": "34ef1e6d",
   "metadata": {},
   "outputs": [],
   "source": [
    "# save as txt file\n",
    "df_detected.to_csv(\"./hotword-detection/detected.txt\", sep = \" \", header=False, index=False)"
   ]
  }
 ],
 "metadata": {
  "kernelspec": {
   "display_name": "htx",
   "language": "python",
   "name": "python3"
  },
  "language_info": {
   "codemirror_mode": {
    "name": "ipython",
    "version": 3
   },
   "file_extension": ".py",
   "mimetype": "text/x-python",
   "name": "python",
   "nbconvert_exporter": "python",
   "pygments_lexer": "ipython3",
   "version": "3.9.23"
  }
 },
 "nbformat": 4,
 "nbformat_minor": 5
}
