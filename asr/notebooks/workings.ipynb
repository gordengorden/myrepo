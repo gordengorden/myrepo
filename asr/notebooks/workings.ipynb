{
 "cells": [
  {
   "cell_type": "code",
   "execution_count": 2,
   "id": "a33cee3f",
   "metadata": {},
   "outputs": [],
   "source": [
    "from transformers import Wav2Vec2Processor, Wav2Vec2ForCTC\n",
    "import torch\n"
   ]
  },
  {
   "cell_type": "code",
   "execution_count": 1,
   "id": "7416b766",
   "metadata": {},
   "outputs": [
    {
     "name": "stderr",
     "output_type": "stream",
     "text": [
      "/Users/gordenlim/anaconda3/envs/htx/lib/python3.9/site-packages/tqdm/auto.py:21: TqdmWarning: IProgress not found. Please update jupyter and ipywidgets. See https://ipywidgets.readthedocs.io/en/stable/user_install.html\n",
      "  from .autonotebook import tqdm as notebook_tqdm\n"
     ]
    }
   ],
   "source": [
    "from flask import Flask, request, jsonify\n",
    "from transformers import Wav2Vec2ForCTC, Wav2Vec2Processor\n",
    "import torch\n",
    "import torchaudio\n",
    "import tempfile\n",
    "import os"
   ]
  },
  {
   "cell_type": "code",
   "execution_count": null,
   "id": "3a8a193b",
   "metadata": {},
   "outputs": [],
   "source": [
    "# Load the model and processor\n",
    "processor = Wav2Vec2Processor.from_pretrained(\"facebook/wav2vec2-large-960h\")\n",
    "model = Wav2Vec2ForCTC.from_pretrained(\"facebook/wav2vec2-large-960h\")\n",
    "\n",
    "# Force model to eval mode\n",
    "model.eval()"
   ]
  },
  {
   "cell_type": "code",
   "execution_count": null,
   "id": "ca07b63c",
   "metadata": {},
   "outputs": [],
   "source": [
    "app = Flask(__name__)"
   ]
  },
  {
   "cell_type": "code",
   "execution_count": null,
   "id": "425d109b",
   "metadata": {},
   "outputs": [],
   "source": [
    "@app.route(\"/ping\", methods=[\"GET\"])\n",
    "def ping():\n",
    "    return \"pong\", 200"
   ]
  },
  {
   "cell_type": "code",
   "execution_count": null,
   "id": "3b0601e9",
   "metadata": {},
   "outputs": [],
   "source": [
    "@app.route(\"/asr\", methods=[\"POST\"])\n",
    "def transcribe_audio():\n",
    "    if \"file\" not in request.files:\n",
    "        return jsonify({\"error\": \"No file uploaded\"}), 400\n",
    "\n",
    "    audio_file = request.files[\"file\"]\n",
    "\n",
    "    # Save to temporary file\n",
    "    with tempfile.NamedTemporaryFile(delete=False, suffix=\".mp3\") as tmp:\n",
    "        audio_path = tmp.name\n",
    "        audio_file.save(audio_path)\n",
    "\n",
    "    try:\n",
    "        # Load and convert to 16kHz mono\n",
    "        waveform, sample_rate = torchaudio.load(audio_path)\n",
    "\n",
    "        if sample_rate != 16000:\n",
    "            waveform = torchaudio.transforms.Resample(orig_freq=sample_rate, new_freq=16000)(waveform)\n",
    "            sample_rate = 16000\n",
    "\n",
    "        # If stereo, take mean\n",
    "        if waveform.shape[0] > 1:\n",
    "            waveform = waveform.mean(dim=0).unsqueeze(0)\n",
    "\n",
    "        # Calculate duration\n",
    "        duration_sec = waveform.shape[1] / sample_rate\n",
    "\n",
    "        # Tokenize\n",
    "        inputs = processor(waveform.squeeze().numpy(), sampling_rate=sample_rate, return_tensors=\"pt\", padding=True)\n",
    "        with torch.no_grad():\n",
    "            logits = model(**inputs).logits\n",
    "        predicted_ids = torch.argmax(logits, dim=-1)\n",
    "        transcription = processor.decode(predicted_ids[0])\n",
    "\n",
    "        return jsonify({\n",
    "            \"transcription\": transcription,\n",
    "            \"duration\": f\"{duration_sec:.1f}\"\n",
    "        })\n",
    "\n",
    "    except Exception as e:\n",
    "        return jsonify({\"error\": str(e)}), 500\n",
    "    finally:\n",
    "        os.remove(audio_path)"
   ]
  },
  {
   "cell_type": "code",
   "execution_count": null,
   "id": "81a1af7f",
   "metadata": {},
   "outputs": [],
   "source": [
    "if __name__ == \"__main__\":\n",
    "    app.run(host=\"0.0.0.0\", port=8001)"
   ]
  }
 ],
 "metadata": {
  "kernelspec": {
   "display_name": "htx",
   "language": "python",
   "name": "python3"
  },
  "language_info": {
   "codemirror_mode": {
    "name": "ipython",
    "version": 3
   },
   "file_extension": ".py",
   "mimetype": "text/x-python",
   "name": "python",
   "nbconvert_exporter": "python",
   "pygments_lexer": "ipython3",
   "version": "3.9.23"
  }
 },
 "nbformat": 4,
 "nbformat_minor": 5
}
